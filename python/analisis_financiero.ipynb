{
 "cells": [
  {
   "cell_type": "code",
   "execution_count": null,
   "metadata": {},
   "outputs": [],
   "source": [
    "import pandas as pd\n",
    "import matplotlib.pyplot as plt\n\n",
    "# Cargar dataset\n",
    "df = pd.read_csv('../data/finanzas.csv')\n\n",
    "# Calcular margen bruto\n",
    "df['Margen_Bruto'] = df['Ingresos'] - df['Costos']\n\n",
    "# Resumen por producto\n",
    "margen_por_producto = df.groupby('Producto')[['Ingresos','Costos','Margen_Bruto']].sum()\n",
    "print(margen_por_producto)\n\n",
    "# Visualización\n",
    "margen_por_producto['Margen_Bruto'].plot(kind='bar', title='Margen Bruto por Producto', ylabel='Soles')\n",
    "plt.show()"
   ]
  }
 ],
 "metadata": {},
 "nbformat": 4,
 "nbformat_minor": 2
}
