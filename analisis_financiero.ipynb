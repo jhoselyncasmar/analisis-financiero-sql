import pandas as pd
import matplotlib.pyplot as plt

# Cargar datos
df = pd.read_csv("data/finanzas.csv")

# Calcular margen bruto
df["Margen_Bruto"] = df["Ingresos"] - df["Costos"]

# Resumen por producto
margen_por_producto = df.groupby("Producto")[["Ingresos", "Costos", "Margen_Bruto"]].sum()
print(margen_por_producto)

# Gráfico: margen por producto
margen_por_producto["Margen_Bruto"].plot(kind="bar", title="Margen Bruto por Producto", ylabel="Soles")
plt.show()
